{
 "cells": [
  {
   "cell_type": "code",
   "execution_count": 77,
   "metadata": {},
   "outputs": [],
   "source": [
    "# %load ds_imp_set.py\n",
    "import numpy as np\n",
    "import pandas as pd\n",
    "import seaborn as sns\n",
    "import matplotlib.pyplot as plt\n",
    "\n",
    "np.set_printoptions(suppress=True, precision=4)\n",
    "pd.set_option('display.max_columns', None)\n",
    "sns.set_context(context='notebook')\n",
    "sns.set_style(style='whitegrid')\n"
   ]
  },
  {
   "cell_type": "code",
   "execution_count": 78,
   "metadata": {},
   "outputs": [],
   "source": [
    "df = pd.read_csv('csv/diabetic_model.csv')"
   ]
  },
  {
   "cell_type": "code",
   "execution_count": 79,
   "metadata": {},
   "outputs": [],
   "source": [
    "dead = df[df['deceased']==1].index.tolist()"
   ]
  },
  {
   "cell_type": "code",
   "execution_count": 80,
   "metadata": {},
   "outputs": [],
   "source": [
    "df.drop(dead, axis='index', inplace=True)\n",
    "df.index = list(range(df.shape[0]))"
   ]
  },
  {
   "cell_type": "code",
   "execution_count": 81,
   "metadata": {},
   "outputs": [],
   "source": [
    "df['con_start'] = pd.to_datetime(df['con_start'])\n",
    "\n",
    "df['birthdate'] = pd.to_datetime(df['birthdate'])\n",
    "\n",
    "df['diag_age'] = (df['con_start'] - df['birthdate']).map(lambda x: int(str(x).split(\" \")[0]) / 365)"
   ]
  },
  {
   "cell_type": "code",
   "execution_count": 82,
   "metadata": {},
   "outputs": [],
   "source": [
    "dfmod = df.sort_values(by=['patient', 'con_start', 'condition'], ascending=True) \\\n",
    "        [['patient', 'condition', 'con_start']]"
   ]
  },
  {
   "cell_type": "code",
   "execution_count": 83,
   "metadata": {},
   "outputs": [],
   "source": [
    "dfmod.index = list(range(dfmod.shape[0]))"
   ]
  },
  {
   "cell_type": "code",
   "execution_count": 84,
   "metadata": {},
   "outputs": [
    {
     "name": "stdout",
     "output_type": "stream",
     "text": [
      "0003d26b-8757-449d-a4d6-c6dbaa822426\n",
      "00156155-152c-4836-8902-cadb73995b17\n",
      "00156155-152c-4836-8902-cadb73995b17\n"
     ]
    }
   ],
   "source": [
    "for i in dfmod.index[:3]:\n",
    "    print(dfmod['patient'][i])"
   ]
  },
  {
   "cell_type": "code",
   "execution_count": 85,
   "metadata": {},
   "outputs": [
    {
     "data": {
      "text/html": [
       "<div>\n",
       "<style scoped>\n",
       "    .dataframe tbody tr th:only-of-type {\n",
       "        vertical-align: middle;\n",
       "    }\n",
       "\n",
       "    .dataframe tbody tr th {\n",
       "        vertical-align: top;\n",
       "    }\n",
       "\n",
       "    .dataframe thead th {\n",
       "        text-align: right;\n",
       "    }\n",
       "</style>\n",
       "<table border=\"1\" class=\"dataframe\">\n",
       "  <thead>\n",
       "    <tr style=\"text-align: right;\">\n",
       "      <th></th>\n",
       "      <th>patient</th>\n",
       "      <th>condition</th>\n",
       "      <th>con_start</th>\n",
       "    </tr>\n",
       "  </thead>\n",
       "  <tbody>\n",
       "    <tr>\n",
       "      <th>45002</th>\n",
       "      <td>fff0c5a2-0a50-44e6-8b0b-886233a5e739</td>\n",
       "      <td>Chronic intractable migraine without aura</td>\n",
       "      <td>2000-01-24</td>\n",
       "    </tr>\n",
       "    <tr>\n",
       "      <th>45003</th>\n",
       "      <td>fff0c5a2-0a50-44e6-8b0b-886233a5e739</td>\n",
       "      <td>Prediabetes</td>\n",
       "      <td>2002-10-26</td>\n",
       "    </tr>\n",
       "  </tbody>\n",
       "</table>\n",
       "</div>"
      ],
      "text/plain": [
       "                                    patient  \\\n",
       "45002  fff0c5a2-0a50-44e6-8b0b-886233a5e739   \n",
       "45003  fff0c5a2-0a50-44e6-8b0b-886233a5e739   \n",
       "\n",
       "                                       condition  con_start  \n",
       "45002  Chronic intractable migraine without aura 2000-01-24  \n",
       "45003                                Prediabetes 2002-10-26  "
      ]
     },
     "execution_count": 85,
     "metadata": {},
     "output_type": "execute_result"
    }
   ],
   "source": [
    "dfmod[dfmod['patient']=='fff0c5a2-0a50-44e6-8b0b-886233a5e739']"
   ]
  },
  {
   "cell_type": "markdown",
   "metadata": {},
   "source": [
    "Patients for whom Prediabetes is their first diagnosis."
   ]
  },
  {
   "cell_type": "code",
   "execution_count": 86,
   "metadata": {},
   "outputs": [],
   "source": [
    "predi_1st_dn = [k for k,v in dict(dfmod.groupby('patient').first() \\\n",
    "                ['condition']=='Prediabetes') \\\n",
    "                .items()\n",
    "                if v]"
   ]
  },
  {
   "cell_type": "code",
   "execution_count": 87,
   "metadata": {},
   "outputs": [
    {
     "data": {
      "text/plain": [
       "True"
      ]
     },
     "execution_count": 87,
     "metadata": {},
     "output_type": "execute_result"
    }
   ],
   "source": [
    "# 2140 rows × 3 columns\n",
    "pats_w_diabe = dfmod[dfmod['condition']=='Diabetes'] \\\n",
    "                    .groupby('patient') \\\n",
    "                    .first() \\\n",
    "                    .index \\\n",
    "                    .tolist()\n",
    "# 1902 rows × 2 columns\n",
    "len(pats_w_diabe) == len(set(pats_w_diabe))"
   ]
  },
  {
   "cell_type": "code",
   "execution_count": 88,
   "metadata": {},
   "outputs": [],
   "source": [
    "p_then_d = list(set(predi_1st_dn).intersection(set(pats_w_diabe)))"
   ]
  },
  {
   "cell_type": "code",
   "execution_count": 89,
   "metadata": {},
   "outputs": [
    {
     "data": {
      "text/plain": [
       "(249, 5101)"
      ]
     },
     "execution_count": 89,
     "metadata": {},
     "output_type": "execute_result"
    }
   ],
   "source": [
    "len(p_then_d) , len(predi_1st_dn)"
   ]
  },
  {
   "cell_type": "markdown",
   "metadata": {},
   "source": [
    "### This is a list of patients who were diagnosed with prediabetes\n",
    "### then later diagnosed with diabetes.\n",
    "### This will be used for classification and regression."
   ]
  },
  {
   "cell_type": "code",
   "execution_count": 90,
   "metadata": {},
   "outputs": [],
   "source": [
    "import pickle\n",
    "with open('p_then_d.pkl', 'wb') as file:\n",
    "    pickle.dump(p_then_d, file)\n",
    "with open('predi_1st_dn.pkl', 'wb') as file:\n",
    "    pickle.dump(predi_1st_dn, file)    "
   ]
  },
  {
   "cell_type": "code",
   "execution_count": 15,
   "metadata": {},
   "outputs": [],
   "source": [
    "predi_first_mask = dfmod['patient'].isin(p_then_d)"
   ]
  },
  {
   "cell_type": "code",
   "execution_count": 16,
   "metadata": {},
   "outputs": [],
   "source": [
    "p = dfmod['condition']=='Prediabetes'\n",
    "d = dfmod['condition']=='Diabetes'"
   ]
  },
  {
   "cell_type": "code",
   "execution_count": 17,
   "metadata": {},
   "outputs": [],
   "source": [
    "irrelevent = dfmod[np.logical_not(np.logical_or(p,d))].index"
   ]
  },
  {
   "cell_type": "code",
   "execution_count": 18,
   "metadata": {},
   "outputs": [
    {
     "name": "stderr",
     "output_type": "stream",
     "text": [
      "/home/craig/anaconda3/envs/dsi/lib/python3.6/site-packages/ipykernel/__main__.py:1: UserWarning: Boolean Series key will be reindexed to match DataFrame index.\n",
      "  if __name__ == '__main__':\n"
     ]
    }
   ],
   "source": [
    "df_t = dfmod.drop(irrelevent, axis='index')[predi_first_mask]"
   ]
  },
  {
   "cell_type": "code",
   "execution_count": 19,
   "metadata": {},
   "outputs": [
    {
     "data": {
      "text/html": [
       "<div>\n",
       "<style scoped>\n",
       "    .dataframe tbody tr th:only-of-type {\n",
       "        vertical-align: middle;\n",
       "    }\n",
       "\n",
       "    .dataframe tbody tr th {\n",
       "        vertical-align: top;\n",
       "    }\n",
       "\n",
       "    .dataframe thead th {\n",
       "        text-align: right;\n",
       "    }\n",
       "</style>\n",
       "<table border=\"1\" class=\"dataframe\">\n",
       "  <thead>\n",
       "    <tr style=\"text-align: right;\">\n",
       "      <th></th>\n",
       "      <th>patient</th>\n",
       "      <th>condition</th>\n",
       "      <th>con_start</th>\n",
       "    </tr>\n",
       "  </thead>\n",
       "  <tbody>\n",
       "    <tr>\n",
       "      <th>257</th>\n",
       "      <td>01b8caf1-f10c-46d5-810c-649414cd3008</td>\n",
       "      <td>Prediabetes</td>\n",
       "      <td>1967-03-27</td>\n",
       "    </tr>\n",
       "    <tr>\n",
       "      <th>258</th>\n",
       "      <td>01b8caf1-f10c-46d5-810c-649414cd3008</td>\n",
       "      <td>Diabetes</td>\n",
       "      <td>1970-01-08</td>\n",
       "    </tr>\n",
       "    <tr>\n",
       "      <th>301</th>\n",
       "      <td>0204fb22-601c-4687-a1be-cfe16b7de4b2</td>\n",
       "      <td>Prediabetes</td>\n",
       "      <td>1996-03-22</td>\n",
       "    </tr>\n",
       "    <tr>\n",
       "      <th>302</th>\n",
       "      <td>0204fb22-601c-4687-a1be-cfe16b7de4b2</td>\n",
       "      <td>Diabetes</td>\n",
       "      <td>2002-01-25</td>\n",
       "    </tr>\n",
       "    <tr>\n",
       "      <th>359</th>\n",
       "      <td>0287f2d7-8796-4129-84b4-fce5213c7a27</td>\n",
       "      <td>Prediabetes</td>\n",
       "      <td>1973-12-24</td>\n",
       "    </tr>\n",
       "  </tbody>\n",
       "</table>\n",
       "</div>"
      ],
      "text/plain": [
       "                                  patient    condition  con_start\n",
       "257  01b8caf1-f10c-46d5-810c-649414cd3008  Prediabetes 1967-03-27\n",
       "258  01b8caf1-f10c-46d5-810c-649414cd3008     Diabetes 1970-01-08\n",
       "301  0204fb22-601c-4687-a1be-cfe16b7de4b2  Prediabetes 1996-03-22\n",
       "302  0204fb22-601c-4687-a1be-cfe16b7de4b2     Diabetes 2002-01-25\n",
       "359  0287f2d7-8796-4129-84b4-fce5213c7a27  Prediabetes 1973-12-24"
      ]
     },
     "execution_count": 19,
     "metadata": {},
     "output_type": "execute_result"
    }
   ],
   "source": [
    "df_t.head()"
   ]
  },
  {
   "cell_type": "code",
   "execution_count": 20,
   "metadata": {},
   "outputs": [],
   "source": [
    "df_t.reset_index(inplace=True)"
   ]
  },
  {
   "cell_type": "code",
   "execution_count": 21,
   "metadata": {},
   "outputs": [],
   "source": [
    "dfnp = df_t.pivot(index='index', columns='condition', values='con_start')"
   ]
  },
  {
   "cell_type": "code",
   "execution_count": 22,
   "metadata": {},
   "outputs": [],
   "source": [
    "dfnp.fillna(method='ffill', inplace=True)"
   ]
  },
  {
   "cell_type": "code",
   "execution_count": 23,
   "metadata": {},
   "outputs": [],
   "source": [
    "dfnp.index = list(range(dfnp.shape[0]))"
   ]
  },
  {
   "cell_type": "code",
   "execution_count": 24,
   "metadata": {},
   "outputs": [],
   "source": [
    "dfnp.index = df_t.index"
   ]
  },
  {
   "cell_type": "code",
   "execution_count": 25,
   "metadata": {},
   "outputs": [],
   "source": [
    "df_p = pd.concat([df_t, dfnp], axis=1)"
   ]
  },
  {
   "cell_type": "code",
   "execution_count": 26,
   "metadata": {},
   "outputs": [],
   "source": [
    "df_p = df_p[df_p.index%2==1]"
   ]
  },
  {
   "cell_type": "code",
   "execution_count": 27,
   "metadata": {},
   "outputs": [
    {
     "data": {
      "text/plain": [
       "(267, 6)"
      ]
     },
     "execution_count": 27,
     "metadata": {},
     "output_type": "execute_result"
    }
   ],
   "source": [
    "df_p.shape"
   ]
  },
  {
   "cell_type": "markdown",
   "metadata": {},
   "source": [
    "Now combine with previously established data."
   ]
  },
  {
   "cell_type": "code",
   "execution_count": 28,
   "metadata": {},
   "outputs": [],
   "source": [
    "df_q = pd.read_pickle('./dfnum.pkl')"
   ]
  },
  {
   "cell_type": "code",
   "execution_count": 29,
   "metadata": {},
   "outputs": [],
   "source": [
    "df_q.reset_index(inplace=True)"
   ]
  },
  {
   "cell_type": "code",
   "execution_count": 30,
   "metadata": {},
   "outputs": [
    {
     "data": {
      "text/plain": [
       "Index(['patient', 'Body Height', 'Body Mass Index', 'Body Weight', 'Calcium',\n",
       "       'Carbon Dioxide', 'Chloride', 'Diastolic Blood Pressure', 'Glucose',\n",
       "       'Potassium', 'Sodium', 'Systolic Blood Pressure', 'Urea Nitrogen',\n",
       "       'deceased', 'persistent_condition', 'pro_reason_given',\n",
       "       'enc_reason_given', 'mcr_reported', 'fev_fvc_reported',\n",
       "       'glomerular_reported', 'triglyc_choles_reported', 'age',\n",
       "       'single_condition', 'diag_age', 'marital_S', 'marital_nan', 'sex_M',\n",
       "       'sex_nan', 'con_start'],\n",
       "      dtype='object')"
      ]
     },
     "execution_count": 30,
     "metadata": {},
     "output_type": "execute_result"
    }
   ],
   "source": [
    "df_q.columns"
   ]
  },
  {
   "cell_type": "code",
   "execution_count": 31,
   "metadata": {},
   "outputs": [],
   "source": [
    "dff = df_p.merge(df_q, left_on=['patient', 'Prediabetes'], right_on=['patient', 'con_start'])"
   ]
  },
  {
   "cell_type": "code",
   "execution_count": 32,
   "metadata": {},
   "outputs": [],
   "source": [
    "# ripe for drop: index, condition, con_start"
   ]
  },
  {
   "cell_type": "code",
   "execution_count": 33,
   "metadata": {},
   "outputs": [
    {
     "data": {
      "text/html": [
       "<div>\n",
       "<style scoped>\n",
       "    .dataframe tbody tr th:only-of-type {\n",
       "        vertical-align: middle;\n",
       "    }\n",
       "\n",
       "    .dataframe tbody tr th {\n",
       "        vertical-align: top;\n",
       "    }\n",
       "\n",
       "    .dataframe thead th {\n",
       "        text-align: right;\n",
       "    }\n",
       "</style>\n",
       "<table border=\"1\" class=\"dataframe\">\n",
       "  <thead>\n",
       "    <tr style=\"text-align: right;\">\n",
       "      <th></th>\n",
       "      <th>index</th>\n",
       "      <th>patient</th>\n",
       "      <th>condition</th>\n",
       "      <th>con_start_x</th>\n",
       "      <th>Diabetes</th>\n",
       "      <th>Prediabetes</th>\n",
       "      <th>Body Height</th>\n",
       "      <th>Body Mass Index</th>\n",
       "      <th>Body Weight</th>\n",
       "      <th>Calcium</th>\n",
       "      <th>Carbon Dioxide</th>\n",
       "      <th>Chloride</th>\n",
       "      <th>Diastolic Blood Pressure</th>\n",
       "      <th>Glucose</th>\n",
       "      <th>Potassium</th>\n",
       "      <th>Sodium</th>\n",
       "      <th>Systolic Blood Pressure</th>\n",
       "      <th>Urea Nitrogen</th>\n",
       "      <th>deceased</th>\n",
       "      <th>persistent_condition</th>\n",
       "      <th>pro_reason_given</th>\n",
       "      <th>enc_reason_given</th>\n",
       "      <th>mcr_reported</th>\n",
       "      <th>fev_fvc_reported</th>\n",
       "      <th>glomerular_reported</th>\n",
       "      <th>triglyc_choles_reported</th>\n",
       "      <th>age</th>\n",
       "      <th>single_condition</th>\n",
       "      <th>diag_age</th>\n",
       "      <th>marital_S</th>\n",
       "      <th>marital_nan</th>\n",
       "      <th>sex_M</th>\n",
       "      <th>sex_nan</th>\n",
       "      <th>con_start_y</th>\n",
       "    </tr>\n",
       "  </thead>\n",
       "  <tbody>\n",
       "    <tr>\n",
       "      <th>0</th>\n",
       "      <td>302</td>\n",
       "      <td>0204fb22-601c-4687-a1be-cfe16b7de4b2</td>\n",
       "      <td>Diabetes</td>\n",
       "      <td>2002-01-25</td>\n",
       "      <td>2002-01-25</td>\n",
       "      <td>1996-03-22</td>\n",
       "      <td>177.06</td>\n",
       "      <td>27.69</td>\n",
       "      <td>86.80</td>\n",
       "      <td>9.66</td>\n",
       "      <td>27.0</td>\n",
       "      <td>103.0</td>\n",
       "      <td>70.0</td>\n",
       "      <td>104.0</td>\n",
       "      <td>5.01</td>\n",
       "      <td>142.0</td>\n",
       "      <td>122.0</td>\n",
       "      <td>7.0</td>\n",
       "      <td>0</td>\n",
       "      <td>1</td>\n",
       "      <td>0</td>\n",
       "      <td>0</td>\n",
       "      <td>1</td>\n",
       "      <td>0</td>\n",
       "      <td>1</td>\n",
       "      <td>1</td>\n",
       "      <td>38</td>\n",
       "      <td>0</td>\n",
       "      <td>23.608219</td>\n",
       "      <td>0</td>\n",
       "      <td>0</td>\n",
       "      <td>1</td>\n",
       "      <td>0</td>\n",
       "      <td>1996-03-22</td>\n",
       "    </tr>\n",
       "    <tr>\n",
       "      <th>1</th>\n",
       "      <td>360</td>\n",
       "      <td>0287f2d7-8796-4129-84b4-fce5213c7a27</td>\n",
       "      <td>Diabetes</td>\n",
       "      <td>1976-10-08</td>\n",
       "      <td>1976-10-08</td>\n",
       "      <td>1973-12-24</td>\n",
       "      <td>163.37</td>\n",
       "      <td>30.76</td>\n",
       "      <td>82.11</td>\n",
       "      <td>9.55</td>\n",
       "      <td>23.0</td>\n",
       "      <td>109.0</td>\n",
       "      <td>70.0</td>\n",
       "      <td>82.0</td>\n",
       "      <td>4.22</td>\n",
       "      <td>142.0</td>\n",
       "      <td>108.0</td>\n",
       "      <td>8.0</td>\n",
       "      <td>0</td>\n",
       "      <td>1</td>\n",
       "      <td>0</td>\n",
       "      <td>0</td>\n",
       "      <td>1</td>\n",
       "      <td>0</td>\n",
       "      <td>1</td>\n",
       "      <td>1</td>\n",
       "      <td>63</td>\n",
       "      <td>0</td>\n",
       "      <td>26.676712</td>\n",
       "      <td>0</td>\n",
       "      <td>0</td>\n",
       "      <td>0</td>\n",
       "      <td>0</td>\n",
       "      <td>1973-12-24</td>\n",
       "    </tr>\n",
       "    <tr>\n",
       "      <th>2</th>\n",
       "      <td>782</td>\n",
       "      <td>0441d5fe-e95a-4cdd-b1d7-c6cadf8332b6</td>\n",
       "      <td>Diabetes</td>\n",
       "      <td>1986-07-06</td>\n",
       "      <td>1986-07-06</td>\n",
       "      <td>1983-07-02</td>\n",
       "      <td>174.71</td>\n",
       "      <td>37.49</td>\n",
       "      <td>114.43</td>\n",
       "      <td>9.60</td>\n",
       "      <td>24.0</td>\n",
       "      <td>109.0</td>\n",
       "      <td>94.0</td>\n",
       "      <td>159.0</td>\n",
       "      <td>4.04</td>\n",
       "      <td>138.0</td>\n",
       "      <td>173.0</td>\n",
       "      <td>17.0</td>\n",
       "      <td>0</td>\n",
       "      <td>1</td>\n",
       "      <td>0</td>\n",
       "      <td>0</td>\n",
       "      <td>1</td>\n",
       "      <td>0</td>\n",
       "      <td>1</td>\n",
       "      <td>1</td>\n",
       "      <td>59</td>\n",
       "      <td>0</td>\n",
       "      <td>32.054795</td>\n",
       "      <td>1</td>\n",
       "      <td>0</td>\n",
       "      <td>1</td>\n",
       "      <td>0</td>\n",
       "      <td>1983-07-02</td>\n",
       "    </tr>\n",
       "    <tr>\n",
       "      <th>3</th>\n",
       "      <td>2092</td>\n",
       "      <td>09b874ca-046c-4f29-8a7d-ea55673609ea</td>\n",
       "      <td>Diabetes</td>\n",
       "      <td>1999-11-29</td>\n",
       "      <td>1999-11-29</td>\n",
       "      <td>1997-12-06</td>\n",
       "      <td>163.03</td>\n",
       "      <td>38.95</td>\n",
       "      <td>103.54</td>\n",
       "      <td>9.59</td>\n",
       "      <td>22.0</td>\n",
       "      <td>106.0</td>\n",
       "      <td>104.0</td>\n",
       "      <td>193.0</td>\n",
       "      <td>4.43</td>\n",
       "      <td>139.0</td>\n",
       "      <td>165.0</td>\n",
       "      <td>17.0</td>\n",
       "      <td>0</td>\n",
       "      <td>1</td>\n",
       "      <td>0</td>\n",
       "      <td>0</td>\n",
       "      <td>1</td>\n",
       "      <td>0</td>\n",
       "      <td>1</td>\n",
       "      <td>1</td>\n",
       "      <td>59</td>\n",
       "      <td>0</td>\n",
       "      <td>46.813699</td>\n",
       "      <td>1</td>\n",
       "      <td>0</td>\n",
       "      <td>0</td>\n",
       "      <td>0</td>\n",
       "      <td>1997-12-06</td>\n",
       "    </tr>\n",
       "    <tr>\n",
       "      <th>4</th>\n",
       "      <td>2112</td>\n",
       "      <td>09fbcb5e-cc43-49cf-b0bc-f37bcbe6da86</td>\n",
       "      <td>Diabetes</td>\n",
       "      <td>2005-02-23</td>\n",
       "      <td>2005-02-23</td>\n",
       "      <td>1999-02-27</td>\n",
       "      <td>178.83</td>\n",
       "      <td>32.20</td>\n",
       "      <td>102.96</td>\n",
       "      <td>9.97</td>\n",
       "      <td>24.0</td>\n",
       "      <td>111.0</td>\n",
       "      <td>117.0</td>\n",
       "      <td>94.0</td>\n",
       "      <td>3.84</td>\n",
       "      <td>140.0</td>\n",
       "      <td>161.0</td>\n",
       "      <td>7.0</td>\n",
       "      <td>0</td>\n",
       "      <td>1</td>\n",
       "      <td>0</td>\n",
       "      <td>0</td>\n",
       "      <td>1</td>\n",
       "      <td>0</td>\n",
       "      <td>1</td>\n",
       "      <td>1</td>\n",
       "      <td>48</td>\n",
       "      <td>0</td>\n",
       "      <td>36.695890</td>\n",
       "      <td>0</td>\n",
       "      <td>0</td>\n",
       "      <td>1</td>\n",
       "      <td>0</td>\n",
       "      <td>1999-02-27</td>\n",
       "    </tr>\n",
       "  </tbody>\n",
       "</table>\n",
       "</div>"
      ],
      "text/plain": [
       "   index                               patient condition con_start_x  \\\n",
       "0    302  0204fb22-601c-4687-a1be-cfe16b7de4b2  Diabetes  2002-01-25   \n",
       "1    360  0287f2d7-8796-4129-84b4-fce5213c7a27  Diabetes  1976-10-08   \n",
       "2    782  0441d5fe-e95a-4cdd-b1d7-c6cadf8332b6  Diabetes  1986-07-06   \n",
       "3   2092  09b874ca-046c-4f29-8a7d-ea55673609ea  Diabetes  1999-11-29   \n",
       "4   2112  09fbcb5e-cc43-49cf-b0bc-f37bcbe6da86  Diabetes  2005-02-23   \n",
       "\n",
       "    Diabetes Prediabetes  Body Height  Body Mass Index  Body Weight  Calcium  \\\n",
       "0 2002-01-25  1996-03-22       177.06            27.69        86.80     9.66   \n",
       "1 1976-10-08  1973-12-24       163.37            30.76        82.11     9.55   \n",
       "2 1986-07-06  1983-07-02       174.71            37.49       114.43     9.60   \n",
       "3 1999-11-29  1997-12-06       163.03            38.95       103.54     9.59   \n",
       "4 2005-02-23  1999-02-27       178.83            32.20       102.96     9.97   \n",
       "\n",
       "   Carbon Dioxide  Chloride  Diastolic Blood Pressure  Glucose  Potassium  \\\n",
       "0            27.0     103.0                      70.0    104.0       5.01   \n",
       "1            23.0     109.0                      70.0     82.0       4.22   \n",
       "2            24.0     109.0                      94.0    159.0       4.04   \n",
       "3            22.0     106.0                     104.0    193.0       4.43   \n",
       "4            24.0     111.0                     117.0     94.0       3.84   \n",
       "\n",
       "   Sodium  Systolic Blood Pressure  Urea Nitrogen  deceased  \\\n",
       "0   142.0                    122.0            7.0         0   \n",
       "1   142.0                    108.0            8.0         0   \n",
       "2   138.0                    173.0           17.0         0   \n",
       "3   139.0                    165.0           17.0         0   \n",
       "4   140.0                    161.0            7.0         0   \n",
       "\n",
       "   persistent_condition  pro_reason_given  enc_reason_given  mcr_reported  \\\n",
       "0                     1                 0                 0             1   \n",
       "1                     1                 0                 0             1   \n",
       "2                     1                 0                 0             1   \n",
       "3                     1                 0                 0             1   \n",
       "4                     1                 0                 0             1   \n",
       "\n",
       "   fev_fvc_reported  glomerular_reported  triglyc_choles_reported  age  \\\n",
       "0                 0                    1                        1   38   \n",
       "1                 0                    1                        1   63   \n",
       "2                 0                    1                        1   59   \n",
       "3                 0                    1                        1   59   \n",
       "4                 0                    1                        1   48   \n",
       "\n",
       "   single_condition   diag_age  marital_S  marital_nan  sex_M  sex_nan  \\\n",
       "0                 0  23.608219          0            0      1        0   \n",
       "1                 0  26.676712          0            0      0        0   \n",
       "2                 0  32.054795          1            0      1        0   \n",
       "3                 0  46.813699          1            0      0        0   \n",
       "4                 0  36.695890          0            0      1        0   \n",
       "\n",
       "  con_start_y  \n",
       "0  1996-03-22  \n",
       "1  1973-12-24  \n",
       "2  1983-07-02  \n",
       "3  1997-12-06  \n",
       "4  1999-02-27  "
      ]
     },
     "execution_count": 33,
     "metadata": {},
     "output_type": "execute_result"
    }
   ],
   "source": [
    "dff.head()"
   ]
  },
  {
   "cell_type": "code",
   "execution_count": 34,
   "metadata": {},
   "outputs": [],
   "source": [
    "dff.drop(['index', 'condition', 'con_start_x', 'con_start_y', \n",
    "          'deceased', 'persistent_condition',\n",
    "          'pro_reason_given', 'enc_reason_given',\n",
    "          'mcr_reported', 'fev_fvc_reported', \n",
    "          'glomerular_reported', 'triglyc_choles_reported',\n",
    "          'single_condition'], axis=1, inplace=True)"
   ]
  },
  {
   "cell_type": "code",
   "execution_count": 35,
   "metadata": {},
   "outputs": [],
   "source": [
    "dff.drop(21, axis=0, inplace=True) # diabetes earlier than prediabetes\n",
    "dff.index = list(range(dff.shape[0]))"
   ]
  },
  {
   "cell_type": "code",
   "execution_count": 36,
   "metadata": {},
   "outputs": [],
   "source": [
    "dff['delta_time'] = dff['Diabetes'] - dff['Prediabetes']\n",
    "dff['delta_time'] = dff['delta_time'].apply(lambda x: x.total_seconds() / (60**2 * 24 * 365))"
   ]
  },
  {
   "cell_type": "code",
   "execution_count": 37,
   "metadata": {},
   "outputs": [
    {
     "data": {
      "text/html": [
       "<div>\n",
       "<style scoped>\n",
       "    .dataframe tbody tr th:only-of-type {\n",
       "        vertical-align: middle;\n",
       "    }\n",
       "\n",
       "    .dataframe tbody tr th {\n",
       "        vertical-align: top;\n",
       "    }\n",
       "\n",
       "    .dataframe thead th {\n",
       "        text-align: right;\n",
       "    }\n",
       "</style>\n",
       "<table border=\"1\" class=\"dataframe\">\n",
       "  <thead>\n",
       "    <tr style=\"text-align: right;\">\n",
       "      <th></th>\n",
       "      <th>patient</th>\n",
       "      <th>Diabetes</th>\n",
       "      <th>Prediabetes</th>\n",
       "      <th>Body Height</th>\n",
       "      <th>Body Mass Index</th>\n",
       "      <th>Body Weight</th>\n",
       "      <th>Calcium</th>\n",
       "      <th>Carbon Dioxide</th>\n",
       "      <th>Chloride</th>\n",
       "      <th>Diastolic Blood Pressure</th>\n",
       "      <th>Glucose</th>\n",
       "      <th>Potassium</th>\n",
       "      <th>Sodium</th>\n",
       "      <th>Systolic Blood Pressure</th>\n",
       "      <th>Urea Nitrogen</th>\n",
       "      <th>age</th>\n",
       "      <th>diag_age</th>\n",
       "      <th>marital_S</th>\n",
       "      <th>marital_nan</th>\n",
       "      <th>sex_M</th>\n",
       "      <th>sex_nan</th>\n",
       "      <th>delta_time</th>\n",
       "    </tr>\n",
       "  </thead>\n",
       "  <tbody>\n",
       "    <tr>\n",
       "      <th>0</th>\n",
       "      <td>0204fb22-601c-4687-a1be-cfe16b7de4b2</td>\n",
       "      <td>2002-01-25</td>\n",
       "      <td>1996-03-22</td>\n",
       "      <td>177.06</td>\n",
       "      <td>27.69</td>\n",
       "      <td>86.80</td>\n",
       "      <td>9.66</td>\n",
       "      <td>27.0</td>\n",
       "      <td>103.0</td>\n",
       "      <td>70.0</td>\n",
       "      <td>104.0</td>\n",
       "      <td>5.01</td>\n",
       "      <td>142.0</td>\n",
       "      <td>122.0</td>\n",
       "      <td>7.0</td>\n",
       "      <td>38</td>\n",
       "      <td>23.608219</td>\n",
       "      <td>0</td>\n",
       "      <td>0</td>\n",
       "      <td>1</td>\n",
       "      <td>0</td>\n",
       "      <td>5.849315</td>\n",
       "    </tr>\n",
       "    <tr>\n",
       "      <th>1</th>\n",
       "      <td>0287f2d7-8796-4129-84b4-fce5213c7a27</td>\n",
       "      <td>1976-10-08</td>\n",
       "      <td>1973-12-24</td>\n",
       "      <td>163.37</td>\n",
       "      <td>30.76</td>\n",
       "      <td>82.11</td>\n",
       "      <td>9.55</td>\n",
       "      <td>23.0</td>\n",
       "      <td>109.0</td>\n",
       "      <td>70.0</td>\n",
       "      <td>82.0</td>\n",
       "      <td>4.22</td>\n",
       "      <td>142.0</td>\n",
       "      <td>108.0</td>\n",
       "      <td>8.0</td>\n",
       "      <td>63</td>\n",
       "      <td>26.676712</td>\n",
       "      <td>0</td>\n",
       "      <td>0</td>\n",
       "      <td>0</td>\n",
       "      <td>0</td>\n",
       "      <td>2.791781</td>\n",
       "    </tr>\n",
       "    <tr>\n",
       "      <th>2</th>\n",
       "      <td>0441d5fe-e95a-4cdd-b1d7-c6cadf8332b6</td>\n",
       "      <td>1986-07-06</td>\n",
       "      <td>1983-07-02</td>\n",
       "      <td>174.71</td>\n",
       "      <td>37.49</td>\n",
       "      <td>114.43</td>\n",
       "      <td>9.60</td>\n",
       "      <td>24.0</td>\n",
       "      <td>109.0</td>\n",
       "      <td>94.0</td>\n",
       "      <td>159.0</td>\n",
       "      <td>4.04</td>\n",
       "      <td>138.0</td>\n",
       "      <td>173.0</td>\n",
       "      <td>17.0</td>\n",
       "      <td>59</td>\n",
       "      <td>32.054795</td>\n",
       "      <td>1</td>\n",
       "      <td>0</td>\n",
       "      <td>1</td>\n",
       "      <td>0</td>\n",
       "      <td>3.013699</td>\n",
       "    </tr>\n",
       "    <tr>\n",
       "      <th>3</th>\n",
       "      <td>09b874ca-046c-4f29-8a7d-ea55673609ea</td>\n",
       "      <td>1999-11-29</td>\n",
       "      <td>1997-12-06</td>\n",
       "      <td>163.03</td>\n",
       "      <td>38.95</td>\n",
       "      <td>103.54</td>\n",
       "      <td>9.59</td>\n",
       "      <td>22.0</td>\n",
       "      <td>106.0</td>\n",
       "      <td>104.0</td>\n",
       "      <td>193.0</td>\n",
       "      <td>4.43</td>\n",
       "      <td>139.0</td>\n",
       "      <td>165.0</td>\n",
       "      <td>17.0</td>\n",
       "      <td>59</td>\n",
       "      <td>46.813699</td>\n",
       "      <td>1</td>\n",
       "      <td>0</td>\n",
       "      <td>0</td>\n",
       "      <td>0</td>\n",
       "      <td>1.980822</td>\n",
       "    </tr>\n",
       "    <tr>\n",
       "      <th>4</th>\n",
       "      <td>09fbcb5e-cc43-49cf-b0bc-f37bcbe6da86</td>\n",
       "      <td>2005-02-23</td>\n",
       "      <td>1999-02-27</td>\n",
       "      <td>178.83</td>\n",
       "      <td>32.20</td>\n",
       "      <td>102.96</td>\n",
       "      <td>9.97</td>\n",
       "      <td>24.0</td>\n",
       "      <td>111.0</td>\n",
       "      <td>117.0</td>\n",
       "      <td>94.0</td>\n",
       "      <td>3.84</td>\n",
       "      <td>140.0</td>\n",
       "      <td>161.0</td>\n",
       "      <td>7.0</td>\n",
       "      <td>48</td>\n",
       "      <td>36.695890</td>\n",
       "      <td>0</td>\n",
       "      <td>0</td>\n",
       "      <td>1</td>\n",
       "      <td>0</td>\n",
       "      <td>5.994521</td>\n",
       "    </tr>\n",
       "  </tbody>\n",
       "</table>\n",
       "</div>"
      ],
      "text/plain": [
       "                                patient   Diabetes Prediabetes  Body Height  \\\n",
       "0  0204fb22-601c-4687-a1be-cfe16b7de4b2 2002-01-25  1996-03-22       177.06   \n",
       "1  0287f2d7-8796-4129-84b4-fce5213c7a27 1976-10-08  1973-12-24       163.37   \n",
       "2  0441d5fe-e95a-4cdd-b1d7-c6cadf8332b6 1986-07-06  1983-07-02       174.71   \n",
       "3  09b874ca-046c-4f29-8a7d-ea55673609ea 1999-11-29  1997-12-06       163.03   \n",
       "4  09fbcb5e-cc43-49cf-b0bc-f37bcbe6da86 2005-02-23  1999-02-27       178.83   \n",
       "\n",
       "   Body Mass Index  Body Weight  Calcium  Carbon Dioxide  Chloride  \\\n",
       "0            27.69        86.80     9.66            27.0     103.0   \n",
       "1            30.76        82.11     9.55            23.0     109.0   \n",
       "2            37.49       114.43     9.60            24.0     109.0   \n",
       "3            38.95       103.54     9.59            22.0     106.0   \n",
       "4            32.20       102.96     9.97            24.0     111.0   \n",
       "\n",
       "   Diastolic Blood Pressure  Glucose  Potassium  Sodium  \\\n",
       "0                      70.0    104.0       5.01   142.0   \n",
       "1                      70.0     82.0       4.22   142.0   \n",
       "2                      94.0    159.0       4.04   138.0   \n",
       "3                     104.0    193.0       4.43   139.0   \n",
       "4                     117.0     94.0       3.84   140.0   \n",
       "\n",
       "   Systolic Blood Pressure  Urea Nitrogen  age   diag_age  marital_S  \\\n",
       "0                    122.0            7.0   38  23.608219          0   \n",
       "1                    108.0            8.0   63  26.676712          0   \n",
       "2                    173.0           17.0   59  32.054795          1   \n",
       "3                    165.0           17.0   59  46.813699          1   \n",
       "4                    161.0            7.0   48  36.695890          0   \n",
       "\n",
       "   marital_nan  sex_M  sex_nan  delta_time  \n",
       "0            0      1        0    5.849315  \n",
       "1            0      0        0    2.791781  \n",
       "2            0      1        0    3.013699  \n",
       "3            0      0        0    1.980822  \n",
       "4            0      1        0    5.994521  "
      ]
     },
     "execution_count": 37,
     "metadata": {},
     "output_type": "execute_result"
    }
   ],
   "source": [
    "dff.head()"
   ]
  },
  {
   "cell_type": "code",
   "execution_count": 38,
   "metadata": {},
   "outputs": [],
   "source": [
    "hb_a1c = pickle.load(open('hb_a1c.pkl', 'rb'))"
   ]
  },
  {
   "cell_type": "code",
   "execution_count": 50,
   "metadata": {},
   "outputs": [],
   "source": [
    "df_a1c = pd.DataFrame(list(hb_a1c.keys()), columns=['encounter', 'patient', 'date'])"
   ]
  },
  {
   "cell_type": "code",
   "execution_count": 51,
   "metadata": {},
   "outputs": [],
   "source": [
    "df_a1c['hb_a1c'] = pd.Series(list(hb_a1c.values()))"
   ]
  },
  {
   "cell_type": "code",
   "execution_count": 56,
   "metadata": {},
   "outputs": [],
   "source": [
    "df_a1c['date'] = pd.to_datetime(df_a1c['date'])\n",
    "df_a1c['hb_a1c'] = df_a1c['hb_a1c'].map(lambda x: float(x))"
   ]
  },
  {
   "cell_type": "code",
   "execution_count": 62,
   "metadata": {},
   "outputs": [],
   "source": [
    "df_a1c.drop('encounter', axis=1, inplace=True)"
   ]
  },
  {
   "cell_type": "code",
   "execution_count": 72,
   "metadata": {},
   "outputs": [
    {
     "data": {
      "text/html": [
       "<div>\n",
       "<style scoped>\n",
       "    .dataframe tbody tr th:only-of-type {\n",
       "        vertical-align: middle;\n",
       "    }\n",
       "\n",
       "    .dataframe tbody tr th {\n",
       "        vertical-align: top;\n",
       "    }\n",
       "\n",
       "    .dataframe thead th {\n",
       "        text-align: right;\n",
       "    }\n",
       "</style>\n",
       "<table border=\"1\" class=\"dataframe\">\n",
       "  <thead>\n",
       "    <tr style=\"text-align: right;\">\n",
       "      <th></th>\n",
       "      <th>patient</th>\n",
       "      <th>Diabetes</th>\n",
       "      <th>Prediabetes</th>\n",
       "      <th>Body Height</th>\n",
       "      <th>Body Mass Index</th>\n",
       "      <th>Body Weight</th>\n",
       "      <th>Calcium</th>\n",
       "      <th>Carbon Dioxide</th>\n",
       "      <th>Chloride</th>\n",
       "      <th>Diastolic Blood Pressure</th>\n",
       "      <th>Glucose</th>\n",
       "      <th>Potassium</th>\n",
       "      <th>Sodium</th>\n",
       "      <th>Systolic Blood Pressure</th>\n",
       "      <th>Urea Nitrogen</th>\n",
       "      <th>age</th>\n",
       "      <th>diag_age</th>\n",
       "      <th>marital_S</th>\n",
       "      <th>marital_nan</th>\n",
       "      <th>sex_M</th>\n",
       "      <th>sex_nan</th>\n",
       "      <th>delta_time</th>\n",
       "      <th>date</th>\n",
       "      <th>hb_a1c</th>\n",
       "    </tr>\n",
       "  </thead>\n",
       "  <tbody>\n",
       "    <tr>\n",
       "      <th>0</th>\n",
       "      <td>62c12865-d83b-4815-a23e-6c2c9d3f8dd0</td>\n",
       "      <td>2017-04-11</td>\n",
       "      <td>2013-10-20</td>\n",
       "      <td>168.3</td>\n",
       "      <td>46.32</td>\n",
       "      <td>131.22</td>\n",
       "      <td>8.97</td>\n",
       "      <td>25.0</td>\n",
       "      <td>110.0</td>\n",
       "      <td>87.0</td>\n",
       "      <td>79.0</td>\n",
       "      <td>3.94</td>\n",
       "      <td>141.0</td>\n",
       "      <td>111.0</td>\n",
       "      <td>7.0</td>\n",
       "      <td>47</td>\n",
       "      <td>47.087671</td>\n",
       "      <td>0</td>\n",
       "      <td>0</td>\n",
       "      <td>0</td>\n",
       "      <td>0</td>\n",
       "      <td>3.476712</td>\n",
       "      <td>2013-10-20</td>\n",
       "      <td>5.9</td>\n",
       "    </tr>\n",
       "    <tr>\n",
       "      <th>1</th>\n",
       "      <td>62c12865-d83b-4815-a23e-6c2c9d3f8dd0</td>\n",
       "      <td>2017-04-11</td>\n",
       "      <td>2013-10-20</td>\n",
       "      <td>168.3</td>\n",
       "      <td>46.32</td>\n",
       "      <td>131.22</td>\n",
       "      <td>8.97</td>\n",
       "      <td>25.0</td>\n",
       "      <td>110.0</td>\n",
       "      <td>87.0</td>\n",
       "      <td>79.0</td>\n",
       "      <td>3.94</td>\n",
       "      <td>141.0</td>\n",
       "      <td>111.0</td>\n",
       "      <td>7.0</td>\n",
       "      <td>47</td>\n",
       "      <td>47.087671</td>\n",
       "      <td>0</td>\n",
       "      <td>0</td>\n",
       "      <td>0</td>\n",
       "      <td>0</td>\n",
       "      <td>3.476712</td>\n",
       "      <td>2013-10-20</td>\n",
       "      <td>5.9</td>\n",
       "    </tr>\n",
       "  </tbody>\n",
       "</table>\n",
       "</div>"
      ],
      "text/plain": [
       "                                patient   Diabetes Prediabetes  Body Height  \\\n",
       "0  62c12865-d83b-4815-a23e-6c2c9d3f8dd0 2017-04-11  2013-10-20        168.3   \n",
       "1  62c12865-d83b-4815-a23e-6c2c9d3f8dd0 2017-04-11  2013-10-20        168.3   \n",
       "\n",
       "   Body Mass Index  Body Weight  Calcium  Carbon Dioxide  Chloride  \\\n",
       "0            46.32       131.22     8.97            25.0     110.0   \n",
       "1            46.32       131.22     8.97            25.0     110.0   \n",
       "\n",
       "   Diastolic Blood Pressure  Glucose  Potassium  Sodium  \\\n",
       "0                      87.0     79.0       3.94   141.0   \n",
       "1                      87.0     79.0       3.94   141.0   \n",
       "\n",
       "   Systolic Blood Pressure  Urea Nitrogen  age   diag_age  marital_S  \\\n",
       "0                    111.0            7.0   47  47.087671          0   \n",
       "1                    111.0            7.0   47  47.087671          0   \n",
       "\n",
       "   marital_nan  sex_M  sex_nan  delta_time       date  hb_a1c  \n",
       "0            0      0        0    3.476712 2013-10-20     5.9  \n",
       "1            0      0        0    3.476712 2013-10-20     5.9  "
      ]
     },
     "execution_count": 72,
     "metadata": {},
     "output_type": "execute_result"
    }
   ],
   "source": [
    "dff.merge(df_a1c, left_on=['patient', 'Prediabetes'], right_on=['patient', 'date'])\n",
    "# .drop_duplicates(subset=['patient'])"
   ]
  },
  {
   "cell_type": "markdown",
   "metadata": {},
   "source": [
    "Nevermind the hb_a1c. It does not map to a sufficient number of observations."
   ]
  },
  {
   "cell_type": "markdown",
   "metadata": {},
   "source": [
    "Drop columns that chronologically follow the prediabetes diagnosis."
   ]
  },
  {
   "cell_type": "code",
   "execution_count": 75,
   "metadata": {},
   "outputs": [],
   "source": [
    "dff.drop(['Diabetes', 'age'], axis=1, inplace=True)"
   ]
  },
  {
   "cell_type": "code",
   "execution_count": 76,
   "metadata": {},
   "outputs": [],
   "source": [
    "dff.to_csv('./csv/diabetic_regression.csv')"
   ]
  }
 ],
 "metadata": {
  "kernelspec": {
   "display_name": "Python [conda env:dsi]",
   "language": "python",
   "name": "conda-env-dsi-py"
  },
  "language_info": {
   "codemirror_mode": {
    "name": "ipython",
    "version": 3
   },
   "file_extension": ".py",
   "mimetype": "text/x-python",
   "name": "python",
   "nbconvert_exporter": "python",
   "pygments_lexer": "ipython3",
   "version": "3.6.4"
  }
 },
 "nbformat": 4,
 "nbformat_minor": 2
}
