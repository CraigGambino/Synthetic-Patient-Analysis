{
 "cells": [
  {
   "cell_type": "code",
   "execution_count": 3,
   "metadata": {},
   "outputs": [],
   "source": [
    "import pandas as pd\n",
    "import numpy as np\n",
    "import seaborn as sns\n",
    "import clean"
   ]
  },
  {
   "cell_type": "code",
   "execution_count": 4,
   "metadata": {},
   "outputs": [],
   "source": [
    "pd.set_option('display.max_columns', None)\n",
    "df = pd.read_csv('./csv/diabetic_staged_fe.csv')"
   ]
  },
  {
   "cell_type": "code",
   "execution_count": 5,
   "metadata": {},
   "outputs": [
    {
     "data": {
      "text/html": [
       "<div>\n",
       "<style scoped>\n",
       "    .dataframe tbody tr th:only-of-type {\n",
       "        vertical-align: middle;\n",
       "    }\n",
       "\n",
       "    .dataframe tbody tr th {\n",
       "        vertical-align: top;\n",
       "    }\n",
       "\n",
       "    .dataframe thead th {\n",
       "        text-align: right;\n",
       "    }\n",
       "</style>\n",
       "<table border=\"1\" class=\"dataframe\">\n",
       "  <thead>\n",
       "    <tr style=\"text-align: right;\">\n",
       "      <th></th>\n",
       "      <th>birthdate</th>\n",
       "      <th>deathdate</th>\n",
       "      <th>marital</th>\n",
       "      <th>gender</th>\n",
       "      <th>patient</th>\n",
       "      <th>Body Height</th>\n",
       "      <th>Body Mass Index</th>\n",
       "      <th>Body Weight</th>\n",
       "      <th>Calcium</th>\n",
       "      <th>Carbon Dioxide</th>\n",
       "      <th>Chloride</th>\n",
       "      <th>Creatinine</th>\n",
       "      <th>Diastolic Blood Pressure</th>\n",
       "      <th>Estimated Glomerular Filtration Rate</th>\n",
       "      <th>FEV1/​FVC</th>\n",
       "      <th>Glucose</th>\n",
       "      <th>High Density Lipoprotein Cholesterol</th>\n",
       "      <th>Low Density Lipoprotein Cholesterol</th>\n",
       "      <th>Microalbumin Creatine Ratio</th>\n",
       "      <th>Oral temperature</th>\n",
       "      <th>Potassium</th>\n",
       "      <th>Sodium</th>\n",
       "      <th>Systolic Blood Pressure</th>\n",
       "      <th>Total Cholesterol</th>\n",
       "      <th>Triglycerides</th>\n",
       "      <th>Urea Nitrogen</th>\n",
       "      <th>encounter</th>\n",
       "      <th>obs_date</th>\n",
       "      <th>enc_date</th>\n",
       "      <th>enc_code</th>\n",
       "      <th>enc_description</th>\n",
       "      <th>enc_reasoncode</th>\n",
       "      <th>enc_reasondescription</th>\n",
       "      <th>pro_date</th>\n",
       "      <th>pro_code</th>\n",
       "      <th>procedure</th>\n",
       "      <th>pro_reasoncode</th>\n",
       "      <th>pro_reasondescription</th>\n",
       "      <th>con_start</th>\n",
       "      <th>con_stop</th>\n",
       "      <th>con_code</th>\n",
       "      <th>condition</th>\n",
       "    </tr>\n",
       "  </thead>\n",
       "  <tbody>\n",
       "    <tr>\n",
       "      <th>0</th>\n",
       "      <td>1963-03-07</td>\n",
       "      <td>NaN</td>\n",
       "      <td>M</td>\n",
       "      <td>M</td>\n",
       "      <td>33025806-4630-46da-a5ff-ee0d9e20465a</td>\n",
       "      <td>181.93</td>\n",
       "      <td>29.50</td>\n",
       "      <td>97.66</td>\n",
       "      <td>10.08</td>\n",
       "      <td>25.0</td>\n",
       "      <td>108.0</td>\n",
       "      <td>1.0</td>\n",
       "      <td>85.0</td>\n",
       "      <td>NaN</td>\n",
       "      <td>NaN</td>\n",
       "      <td>98.0</td>\n",
       "      <td>68.0</td>\n",
       "      <td>104.0</td>\n",
       "      <td>NaN</td>\n",
       "      <td>NaN</td>\n",
       "      <td>4.83</td>\n",
       "      <td>143.0</td>\n",
       "      <td>129.0</td>\n",
       "      <td>200.0</td>\n",
       "      <td>136.0</td>\n",
       "      <td>14.0</td>\n",
       "      <td>0afe4a0e-549c-413f-91c9-0fa6abdcf412</td>\n",
       "      <td>2010-07-21</td>\n",
       "      <td>2010-07-21</td>\n",
       "      <td>185349003</td>\n",
       "      <td>Outpatient Encounter</td>\n",
       "      <td>NaN</td>\n",
       "      <td>NaN</td>\n",
       "      <td>2010-07-21</td>\n",
       "      <td>428191000124101</td>\n",
       "      <td>Documentation of current medications</td>\n",
       "      <td>NaN</td>\n",
       "      <td>NaN</td>\n",
       "      <td>1992-10-28</td>\n",
       "      <td>NaN</td>\n",
       "      <td>15777000</td>\n",
       "      <td>Prediabetes</td>\n",
       "    </tr>\n",
       "    <tr>\n",
       "      <th>1</th>\n",
       "      <td>1949-11-27</td>\n",
       "      <td>NaN</td>\n",
       "      <td>S</td>\n",
       "      <td>M</td>\n",
       "      <td>426721dc-71de-4ab7-8f3a-8a45b89abc79</td>\n",
       "      <td>177.68</td>\n",
       "      <td>33.19</td>\n",
       "      <td>104.79</td>\n",
       "      <td>9.79</td>\n",
       "      <td>20.0</td>\n",
       "      <td>106.0</td>\n",
       "      <td>1.0</td>\n",
       "      <td>84.0</td>\n",
       "      <td>NaN</td>\n",
       "      <td>NaN</td>\n",
       "      <td>84.0</td>\n",
       "      <td>NaN</td>\n",
       "      <td>NaN</td>\n",
       "      <td>NaN</td>\n",
       "      <td>NaN</td>\n",
       "      <td>4.57</td>\n",
       "      <td>136.0</td>\n",
       "      <td>122.0</td>\n",
       "      <td>NaN</td>\n",
       "      <td>NaN</td>\n",
       "      <td>11.0</td>\n",
       "      <td>c38e7bf3-09c3-49fa-92da-15f36444b345</td>\n",
       "      <td>2010-07-09</td>\n",
       "      <td>2010-07-09</td>\n",
       "      <td>185349003</td>\n",
       "      <td>Outpatient Encounter</td>\n",
       "      <td>NaN</td>\n",
       "      <td>NaN</td>\n",
       "      <td>2010-07-09</td>\n",
       "      <td>428191000124101</td>\n",
       "      <td>Documentation of current medications</td>\n",
       "      <td>NaN</td>\n",
       "      <td>NaN</td>\n",
       "      <td>1984-03-16</td>\n",
       "      <td>NaN</td>\n",
       "      <td>15777000</td>\n",
       "      <td>Prediabetes</td>\n",
       "    </tr>\n",
       "    <tr>\n",
       "      <th>2</th>\n",
       "      <td>1949-11-27</td>\n",
       "      <td>NaN</td>\n",
       "      <td>S</td>\n",
       "      <td>M</td>\n",
       "      <td>426721dc-71de-4ab7-8f3a-8a45b89abc79</td>\n",
       "      <td>177.68</td>\n",
       "      <td>33.19</td>\n",
       "      <td>104.79</td>\n",
       "      <td>9.79</td>\n",
       "      <td>20.0</td>\n",
       "      <td>106.0</td>\n",
       "      <td>1.0</td>\n",
       "      <td>84.0</td>\n",
       "      <td>NaN</td>\n",
       "      <td>NaN</td>\n",
       "      <td>84.0</td>\n",
       "      <td>NaN</td>\n",
       "      <td>NaN</td>\n",
       "      <td>NaN</td>\n",
       "      <td>NaN</td>\n",
       "      <td>4.57</td>\n",
       "      <td>136.0</td>\n",
       "      <td>122.0</td>\n",
       "      <td>NaN</td>\n",
       "      <td>NaN</td>\n",
       "      <td>11.0</td>\n",
       "      <td>c38e7bf3-09c3-49fa-92da-15f36444b345</td>\n",
       "      <td>2010-07-09</td>\n",
       "      <td>2010-07-09</td>\n",
       "      <td>185349003</td>\n",
       "      <td>Outpatient Encounter</td>\n",
       "      <td>NaN</td>\n",
       "      <td>NaN</td>\n",
       "      <td>2010-07-09</td>\n",
       "      <td>428191000124101</td>\n",
       "      <td>Documentation of current medications</td>\n",
       "      <td>NaN</td>\n",
       "      <td>NaN</td>\n",
       "      <td>2009-11-28</td>\n",
       "      <td>2011-02-27</td>\n",
       "      <td>68496003</td>\n",
       "      <td>Polyp of colon</td>\n",
       "    </tr>\n",
       "    <tr>\n",
       "      <th>3</th>\n",
       "      <td>1956-05-27</td>\n",
       "      <td>NaN</td>\n",
       "      <td>M</td>\n",
       "      <td>M</td>\n",
       "      <td>2e295b32-eb37-4c47-8bf4-5097d4be6ab0</td>\n",
       "      <td>178.59</td>\n",
       "      <td>30.14</td>\n",
       "      <td>96.11</td>\n",
       "      <td>9.66</td>\n",
       "      <td>26.0</td>\n",
       "      <td>107.0</td>\n",
       "      <td>1.0</td>\n",
       "      <td>102.0</td>\n",
       "      <td>60.0</td>\n",
       "      <td>NaN</td>\n",
       "      <td>105.0</td>\n",
       "      <td>55.0</td>\n",
       "      <td>151.0</td>\n",
       "      <td>22.0</td>\n",
       "      <td>NaN</td>\n",
       "      <td>3.81</td>\n",
       "      <td>144.0</td>\n",
       "      <td>176.0</td>\n",
       "      <td>239.0</td>\n",
       "      <td>164.0</td>\n",
       "      <td>13.0</td>\n",
       "      <td>bf7f2a07-a7c5-405c-b2d3-50661e3bec25</td>\n",
       "      <td>2010-11-06</td>\n",
       "      <td>2010-11-06</td>\n",
       "      <td>185349003</td>\n",
       "      <td>Outpatient Encounter</td>\n",
       "      <td>NaN</td>\n",
       "      <td>NaN</td>\n",
       "      <td>2010-11-06</td>\n",
       "      <td>428191000124101</td>\n",
       "      <td>Documentation of current medications</td>\n",
       "      <td>NaN</td>\n",
       "      <td>NaN</td>\n",
       "      <td>1980-09-03</td>\n",
       "      <td>NaN</td>\n",
       "      <td>15777000</td>\n",
       "      <td>Prediabetes</td>\n",
       "    </tr>\n",
       "    <tr>\n",
       "      <th>4</th>\n",
       "      <td>1956-05-27</td>\n",
       "      <td>NaN</td>\n",
       "      <td>M</td>\n",
       "      <td>M</td>\n",
       "      <td>2e295b32-eb37-4c47-8bf4-5097d4be6ab0</td>\n",
       "      <td>178.59</td>\n",
       "      <td>30.14</td>\n",
       "      <td>96.11</td>\n",
       "      <td>9.66</td>\n",
       "      <td>26.0</td>\n",
       "      <td>107.0</td>\n",
       "      <td>1.0</td>\n",
       "      <td>102.0</td>\n",
       "      <td>60.0</td>\n",
       "      <td>NaN</td>\n",
       "      <td>105.0</td>\n",
       "      <td>55.0</td>\n",
       "      <td>151.0</td>\n",
       "      <td>22.0</td>\n",
       "      <td>NaN</td>\n",
       "      <td>3.81</td>\n",
       "      <td>144.0</td>\n",
       "      <td>176.0</td>\n",
       "      <td>239.0</td>\n",
       "      <td>164.0</td>\n",
       "      <td>13.0</td>\n",
       "      <td>bf7f2a07-a7c5-405c-b2d3-50661e3bec25</td>\n",
       "      <td>2010-11-06</td>\n",
       "      <td>2010-11-06</td>\n",
       "      <td>185349003</td>\n",
       "      <td>Outpatient Encounter</td>\n",
       "      <td>NaN</td>\n",
       "      <td>NaN</td>\n",
       "      <td>2010-11-06</td>\n",
       "      <td>428191000124101</td>\n",
       "      <td>Documentation of current medications</td>\n",
       "      <td>NaN</td>\n",
       "      <td>NaN</td>\n",
       "      <td>1983-09-11</td>\n",
       "      <td>NaN</td>\n",
       "      <td>44054006</td>\n",
       "      <td>Diabetes</td>\n",
       "    </tr>\n",
       "  </tbody>\n",
       "</table>\n",
       "</div>"
      ],
      "text/plain": [
       "    birthdate deathdate marital gender                               patient  \\\n",
       "0  1963-03-07       NaN       M      M  33025806-4630-46da-a5ff-ee0d9e20465a   \n",
       "1  1949-11-27       NaN       S      M  426721dc-71de-4ab7-8f3a-8a45b89abc79   \n",
       "2  1949-11-27       NaN       S      M  426721dc-71de-4ab7-8f3a-8a45b89abc79   \n",
       "3  1956-05-27       NaN       M      M  2e295b32-eb37-4c47-8bf4-5097d4be6ab0   \n",
       "4  1956-05-27       NaN       M      M  2e295b32-eb37-4c47-8bf4-5097d4be6ab0   \n",
       "\n",
       "   Body Height  Body Mass Index  Body Weight  Calcium  Carbon Dioxide  \\\n",
       "0       181.93            29.50        97.66    10.08            25.0   \n",
       "1       177.68            33.19       104.79     9.79            20.0   \n",
       "2       177.68            33.19       104.79     9.79            20.0   \n",
       "3       178.59            30.14        96.11     9.66            26.0   \n",
       "4       178.59            30.14        96.11     9.66            26.0   \n",
       "\n",
       "   Chloride  Creatinine  Diastolic Blood Pressure  \\\n",
       "0     108.0         1.0                      85.0   \n",
       "1     106.0         1.0                      84.0   \n",
       "2     106.0         1.0                      84.0   \n",
       "3     107.0         1.0                     102.0   \n",
       "4     107.0         1.0                     102.0   \n",
       "\n",
       "   Estimated Glomerular Filtration Rate  FEV1/​FVC  Glucose  \\\n",
       "0                                   NaN        NaN     98.0   \n",
       "1                                   NaN        NaN     84.0   \n",
       "2                                   NaN        NaN     84.0   \n",
       "3                                  60.0        NaN    105.0   \n",
       "4                                  60.0        NaN    105.0   \n",
       "\n",
       "   High Density Lipoprotein Cholesterol  Low Density Lipoprotein Cholesterol  \\\n",
       "0                                  68.0                                104.0   \n",
       "1                                   NaN                                  NaN   \n",
       "2                                   NaN                                  NaN   \n",
       "3                                  55.0                                151.0   \n",
       "4                                  55.0                                151.0   \n",
       "\n",
       "   Microalbumin Creatine Ratio  Oral temperature  Potassium  Sodium  \\\n",
       "0                          NaN               NaN       4.83   143.0   \n",
       "1                          NaN               NaN       4.57   136.0   \n",
       "2                          NaN               NaN       4.57   136.0   \n",
       "3                         22.0               NaN       3.81   144.0   \n",
       "4                         22.0               NaN       3.81   144.0   \n",
       "\n",
       "   Systolic Blood Pressure  Total Cholesterol  Triglycerides  Urea Nitrogen  \\\n",
       "0                    129.0              200.0          136.0           14.0   \n",
       "1                    122.0                NaN            NaN           11.0   \n",
       "2                    122.0                NaN            NaN           11.0   \n",
       "3                    176.0              239.0          164.0           13.0   \n",
       "4                    176.0              239.0          164.0           13.0   \n",
       "\n",
       "                              encounter    obs_date    enc_date   enc_code  \\\n",
       "0  0afe4a0e-549c-413f-91c9-0fa6abdcf412  2010-07-21  2010-07-21  185349003   \n",
       "1  c38e7bf3-09c3-49fa-92da-15f36444b345  2010-07-09  2010-07-09  185349003   \n",
       "2  c38e7bf3-09c3-49fa-92da-15f36444b345  2010-07-09  2010-07-09  185349003   \n",
       "3  bf7f2a07-a7c5-405c-b2d3-50661e3bec25  2010-11-06  2010-11-06  185349003   \n",
       "4  bf7f2a07-a7c5-405c-b2d3-50661e3bec25  2010-11-06  2010-11-06  185349003   \n",
       "\n",
       "        enc_description  enc_reasoncode enc_reasondescription    pro_date  \\\n",
       "0  Outpatient Encounter             NaN                   NaN  2010-07-21   \n",
       "1  Outpatient Encounter             NaN                   NaN  2010-07-09   \n",
       "2  Outpatient Encounter             NaN                   NaN  2010-07-09   \n",
       "3  Outpatient Encounter             NaN                   NaN  2010-11-06   \n",
       "4  Outpatient Encounter             NaN                   NaN  2010-11-06   \n",
       "\n",
       "          pro_code                             procedure  pro_reasoncode  \\\n",
       "0  428191000124101  Documentation of current medications             NaN   \n",
       "1  428191000124101  Documentation of current medications             NaN   \n",
       "2  428191000124101  Documentation of current medications             NaN   \n",
       "3  428191000124101  Documentation of current medications             NaN   \n",
       "4  428191000124101  Documentation of current medications             NaN   \n",
       "\n",
       "  pro_reasondescription   con_start    con_stop  con_code       condition  \n",
       "0                   NaN  1992-10-28         NaN  15777000     Prediabetes  \n",
       "1                   NaN  1984-03-16         NaN  15777000     Prediabetes  \n",
       "2                   NaN  2009-11-28  2011-02-27  68496003  Polyp of colon  \n",
       "3                   NaN  1980-09-03         NaN  15777000     Prediabetes  \n",
       "4                   NaN  1983-09-11         NaN  44054006        Diabetes  "
      ]
     },
     "execution_count": 5,
     "metadata": {},
     "output_type": "execute_result"
    }
   ],
   "source": [
    "df.head()"
   ]
  },
  {
   "cell_type": "code",
   "execution_count": 6,
   "metadata": {},
   "outputs": [],
   "source": [
    "trig = (df['Total Cholesterol'].isnull() & df['Triglycerides'].notnull())"
   ]
  },
  {
   "cell_type": "code",
   "execution_count": 7,
   "metadata": {},
   "outputs": [],
   "source": [
    "chol = (df['High Density Lipoprotein Cholesterol'].isnull() & df['Low Density Lipoprotein Cholesterol'].notnull())"
   ]
  },
  {
   "cell_type": "code",
   "execution_count": 8,
   "metadata": {},
   "outputs": [
    {
     "data": {
      "text/plain": [
       "False"
      ]
     },
     "execution_count": 8,
     "metadata": {},
     "output_type": "execute_result"
    }
   ],
   "source": [
    "(df['Total Cholesterol'].isnull() & df['Low Density Lipoprotein Cholesterol'].notnull()).any() # False"
   ]
  },
  {
   "cell_type": "code",
   "execution_count": 9,
   "metadata": {},
   "outputs": [],
   "source": [
    "df['deceased'] = df['deathdate'].notnull().map(lambda x: int(x))"
   ]
  },
  {
   "cell_type": "code",
   "execution_count": 10,
   "metadata": {},
   "outputs": [],
   "source": [
    "df['persistent_condition'] = df['con_stop'].isnull().map(lambda x: int(x))"
   ]
  },
  {
   "cell_type": "code",
   "execution_count": 11,
   "metadata": {},
   "outputs": [],
   "source": [
    "df['pro_reason_given'] = df['pro_reasoncode'].notnull().map(lambda x: int(x))"
   ]
  },
  {
   "cell_type": "code",
   "execution_count": 12,
   "metadata": {},
   "outputs": [],
   "source": [
    "df['enc_reason_given'] = df['enc_reasondescription'].notnull().map(lambda x: int(x))"
   ]
  },
  {
   "cell_type": "code",
   "execution_count": 13,
   "metadata": {},
   "outputs": [],
   "source": [
    "df['mcr_reported'] = df['Microalbumin Creatine Ratio'].notnull().map(lambda x: int(x))"
   ]
  },
  {
   "cell_type": "code",
   "execution_count": 14,
   "metadata": {},
   "outputs": [],
   "source": [
    "df['fev_fvc_reported'] = df['FEV1/\\u200bFVC'].notnull().map(lambda x: int(x))"
   ]
  },
  {
   "cell_type": "code",
   "execution_count": 15,
   "metadata": {},
   "outputs": [],
   "source": [
    "df['glomerular_reported'] = df['Estimated Glomerular Filtration Rate'].notnull().map(lambda x: int(x))"
   ]
  },
  {
   "cell_type": "code",
   "execution_count": 16,
   "metadata": {},
   "outputs": [],
   "source": [
    "df['triglyc_choles_reported'] = df['Triglycerides'].notnull().map(lambda x: int(x))"
   ]
  },
  {
   "cell_type": "code",
   "execution_count": 17,
   "metadata": {},
   "outputs": [],
   "source": [
    "df['birthdate'] = pd.to_datetime(df['birthdate'])\n",
    "df['obs_date'] = pd.to_datetime(df['obs_date'])\n",
    "df['enc_date'] = pd.to_datetime(df['enc_date'])\n",
    "df['pro_date'] = pd.to_datetime(df['pro_date'])"
   ]
  },
  {
   "cell_type": "code",
   "execution_count": 18,
   "metadata": {},
   "outputs": [],
   "source": [
    "df['enc_code'] = df['enc_code'].astype(str)\n",
    "df['pro_code'] = df['pro_code'].astype(str)\n",
    "df['con_code'] = df['con_code'].astype(str)"
   ]
  },
  {
   "cell_type": "code",
   "execution_count": 19,
   "metadata": {},
   "outputs": [],
   "source": [
    "# Create an age feature.\n",
    "df['age'] = (df['enc_date'] - df['birthdate']) \\\n",
    "            .astype(str) \\\n",
    "            .map(lambda x: int(x[:5]) // 365)"
   ]
  },
  {
   "cell_type": "code",
   "execution_count": 20,
   "metadata": {},
   "outputs": [
    {
     "data": {
      "text/plain": [
       "birthdate                               datetime64[ns]\n",
       "deathdate                                       object\n",
       "marital                                         object\n",
       "gender                                          object\n",
       "patient                                         object\n",
       "Body Height                                    float64\n",
       "Body Mass Index                                float64\n",
       "Body Weight                                    float64\n",
       "Calcium                                        float64\n",
       "Carbon Dioxide                                 float64\n",
       "Chloride                                       float64\n",
       "Creatinine                                     float64\n",
       "Diastolic Blood Pressure                       float64\n",
       "Estimated Glomerular Filtration Rate           float64\n",
       "FEV1/​FVC                                      float64\n",
       "Glucose                                        float64\n",
       "High Density Lipoprotein Cholesterol           float64\n",
       "Low Density Lipoprotein Cholesterol            float64\n",
       "Microalbumin Creatine Ratio                    float64\n",
       "Oral temperature                               float64\n",
       "Potassium                                      float64\n",
       "Sodium                                         float64\n",
       "Systolic Blood Pressure                        float64\n",
       "Total Cholesterol                              float64\n",
       "Triglycerides                                  float64\n",
       "Urea Nitrogen                                  float64\n",
       "encounter                                       object\n",
       "obs_date                                datetime64[ns]\n",
       "enc_date                                datetime64[ns]\n",
       "enc_code                                        object\n",
       "enc_description                                 object\n",
       "enc_reasoncode                                 float64\n",
       "enc_reasondescription                           object\n",
       "pro_date                                datetime64[ns]\n",
       "pro_code                                        object\n",
       "procedure                                       object\n",
       "pro_reasoncode                                 float64\n",
       "pro_reasondescription                           object\n",
       "con_start                                       object\n",
       "con_stop                                        object\n",
       "con_code                                        object\n",
       "condition                                       object\n",
       "deceased                                         int64\n",
       "persistent_condition                             int64\n",
       "pro_reason_given                                 int64\n",
       "enc_reason_given                                 int64\n",
       "mcr_reported                                     int64\n",
       "fev_fvc_reported                                 int64\n",
       "glomerular_reported                              int64\n",
       "triglyc_choles_reported                          int64\n",
       "age                                              int64\n",
       "dtype: object"
      ]
     },
     "execution_count": 20,
     "metadata": {},
     "output_type": "execute_result"
    }
   ],
   "source": [
    "df.dtypes"
   ]
  },
  {
   "cell_type": "code",
   "execution_count": 21,
   "metadata": {},
   "outputs": [
    {
     "data": {
      "text/plain": [
       "Death Certification         45337\n",
       "Outpatient Encounter        37730\n",
       "Encounter for symptom       15527\n",
       "Emergency Encounter            27\n",
       "Encounter for problem          18\n",
       "Emergency room admission        6\n",
       "Hospital admission              1\n",
       "Name: enc_description, dtype: int64"
      ]
     },
     "execution_count": 21,
     "metadata": {},
     "output_type": "execute_result"
    }
   ],
   "source": [
    "df['enc_description'].value_counts()"
   ]
  },
  {
   "cell_type": "code",
   "execution_count": 22,
   "metadata": {},
   "outputs": [
    {
     "data": {
      "text/plain": [
       "['deathdate',\n",
       " 'Estimated Glomerular Filtration Rate',\n",
       " 'FEV1/\\u200bFVC',\n",
       " 'High Density Lipoprotein Cholesterol',\n",
       " 'Low Density Lipoprotein Cholesterol',\n",
       " 'Microalbumin Creatine Ratio',\n",
       " 'Oral temperature',\n",
       " 'Total Cholesterol',\n",
       " 'Triglycerides',\n",
       " 'enc_reasoncode',\n",
       " 'enc_reasondescription',\n",
       " 'pro_reasoncode',\n",
       " 'pro_reasondescription',\n",
       " 'con_stop']"
      ]
     },
     "execution_count": 22,
     "metadata": {},
     "output_type": "execute_result"
    }
   ],
   "source": [
    "clean.get_bad_columns(df)"
   ]
  },
  {
   "cell_type": "code",
   "execution_count": 23,
   "metadata": {},
   "outputs": [],
   "source": [
    "clean.drop_bad_columns(df)"
   ]
  },
  {
   "cell_type": "code",
   "execution_count": 24,
   "metadata": {},
   "outputs": [],
   "source": [
    "df.drop('Creatinine', axis=1, inplace=True)"
   ]
  },
  {
   "cell_type": "code",
   "execution_count": 25,
   "metadata": {},
   "outputs": [],
   "source": [
    "df.to_csv('./csv/diabetic_model.csv', index=False)"
   ]
  }
 ],
 "metadata": {
  "kernelspec": {
   "display_name": "Python [conda env:dsi]",
   "language": "python",
   "name": "conda-env-dsi-py"
  },
  "language_info": {
   "codemirror_mode": {
    "name": "ipython",
    "version": 3
   },
   "file_extension": ".py",
   "mimetype": "text/x-python",
   "name": "python",
   "nbconvert_exporter": "python",
   "pygments_lexer": "ipython3",
   "version": "3.6.4"
  }
 },
 "nbformat": 4,
 "nbformat_minor": 2
}
